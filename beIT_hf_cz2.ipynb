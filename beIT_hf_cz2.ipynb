{
  "nbformat": 4,
  "nbformat_minor": 0,
  "metadata": {
    "colab": {
      "name": "beIT - cz3.ipynb",
      "provenance": [],
      "collapsed_sections": []
    },
    "kernelspec": {
      "name": "python3",
      "display_name": "Python 3"
    },
    "language_info": {
      "name": "python"
    }
  },
  "cells": [
    {
      "cell_type": "markdown",
      "source": [
        "# Głowne zadania w NLP, a transformery\n",
        "Teraz przyjrzymy się głównym zastosowaniom transformerów w NLP przy pomocy HuggingFace\n"
      ],
      "metadata": {
        "id": "m89NFzr8ONyC"
      }
    },
    {
      "cell_type": "code",
      "source": [
        "!pip3 install transformers[sentencepiece]==4.18.0\n",
        "!pip3 install datasets==1.15.1\n",
        "!pip3 install huggingface_hub>=0.1.0,<1.0.0"
      ],
      "metadata": {
        "id": "aoNS2k3pKLVe"
      },
      "execution_count": null,
      "outputs": []
    },
    {
      "cell_type": "code",
      "source": [
        "from transformers import AutoTokenizer, AutoModelForTokenClassification\n",
        "from transformers import pipeline"
      ],
      "metadata": {
        "id": "Kf63pSnibwQS"
      },
      "execution_count": null,
      "outputs": []
    },
    {
      "cell_type": "markdown",
      "source": [
        "## Wypełnienie maski\n"
      ],
      "metadata": {
        "id": "nWg5xk6Gdrsu"
      }
    },
    {
      "cell_type": "code",
      "source": [
        "classifier = pipeline(\"fill-mask\")\n",
        "classifier(\"Warsaw is the <mask> of Poland.\")"
      ],
      "metadata": {
        "id": "GkODJzozdybc"
      },
      "execution_count": null,
      "outputs": []
    },
    {
      "cell_type": "markdown",
      "source": [
        "## Klasyfikacja tokenów\n",
        "Wyróżnia się:\n",
        "- Named Entity Recognition (NER)\n",
        "-  Part of Speech (PoS)"
      ],
      "metadata": {
        "id": "D1Sth96uKG3Z"
      }
    },
    {
      "cell_type": "code",
      "execution_count": null,
      "metadata": {
        "id": "vcl--VuwMx02"
      },
      "outputs": [],
      "source": [
        "pipe = pipeline(\"ner\", 'Babelscape/wikineural-multilingual-ner')\n",
        "example = \"Narodowy Korpus Języka Polskiego jest wspólną inicjatywą Instytutu Podstaw Informatyki PAN (koordynator), Instytutu Języka Polskiego PAN, Wydawnictwa Naukowego PWN oraz Zakładu Językoznawstwa Komputerowego i Korpusowego Uniwersytetu Łódzkiego.\"\n",
        "\n",
        "ner_results = pipe(example)\n",
        "print(ner_results)"
      ]
    },
    {
      "cell_type": "markdown",
      "source": [
        "## Tłumaczenie\n",
        "Oprócz tłumaczeń z jednego języka na inny, zaliczają tu się też takie rzeczy jak np. transfer stylu, generowanie kodu na podstawie promptu, itp."
      ],
      "metadata": {
        "id": "vnUaC6vpRbFn"
      }
    },
    {
      "cell_type": "code",
      "source": [
        "tran = pipeline(\"translation\", 'Helsinki-NLP/opus-mt-pl-en')\n",
        "text = \"Modele generatywne to szeroka klasa algorytmów nauczenia maszynowego, która zajmuje się modelowaniem rozkładu łącznego danych.\"\n",
        "\n",
        "translation = tran(text)\n",
        "print(translation)\n"
      ],
      "metadata": {
        "id": "LOQ9zVQDQ3Bp"
      },
      "execution_count": null,
      "outputs": []
    },
    {
      "cell_type": "markdown",
      "source": [
        "## Podsumowanie"
      ],
      "metadata": {
        "id": "l2BlM4XOYF7o"
      }
    },
    {
      "cell_type": "code",
      "source": [
        "summ = pipeline('summarization', model='google/pegasus-xsum')\n",
        "text = 'Natural language processing (NLP) is a subfield of linguistics, computer science, and artificial intelligence concerned with the interactions between computers and human language, in particular how to program computers to process and analyze large amounts of natural language data. The goal is a computer capable of \"understanding\" the contents of documents, including the contextual nuances of the language within them. The technology can then accurately extract information and insights contained in the documents as well as categorize and organize the documents themselves. Challenges in natural language processing frequently involve speech recognition, natural-language understanding, and natural-language generation.'\n",
        "\n",
        "summarized = summ(text)\n",
        "print(summarized)\n"
      ],
      "metadata": {
        "id": "Z6amRIgWZDbC"
      },
      "execution_count": null,
      "outputs": []
    },
    {
      "cell_type": "markdown",
      "source": [
        "## Generowanie tekstu\n",
        "*Tutaj na google colab może wyskoczyć CUDA error bez wersji pro - za mało VRAMu by pomieścić model.*"
      ],
      "metadata": {
        "id": "ct9e7TLJZ7hA"
      }
    },
    {
      "cell_type": "code",
      "source": [
        "generator = pipeline('text-generation', model='sberbank-ai/mGPT')\n",
        "generator(\"Hello, I'm a language model,\", max_length=30, num_return_sequences=1)"
      ],
      "metadata": {
        "id": "ZZxLaNcGaYgW"
      },
      "execution_count": null,
      "outputs": []
    },
    {
      "cell_type": "markdown",
      "source": [
        "## Ekstrakcyjna odpowiedź na pytania "
      ],
      "metadata": {
        "id": "DISuTYnldk0p"
      }
    },
    {
      "cell_type": "code",
      "source": [
        "from transformers import pipeline\n",
        "\n",
        "qa_model = pipeline(\"question-answering\")\n",
        "question = \"Who founded facebook?\"\n",
        "context = 'Facebook is an American online social media and social networking service owned by Meta Platforms. Founded in 2004 by Mark Zuckerberg with fellow Harvard College students and roommates Eduardo Saverin, Andrew McCollum, Dustin Moskovitz, and Chris Hughes, its name comes from the face book directories often given to American university students. Membership was initially limited to Harvard students, gradually expanding to other North American universities and, since 2006, anyone over 13 years old. As of 2020, Facebook claimed 2.8 billion monthly active users,[2] and ranked fourth in global internet usage.[6] It was the most downloaded mobile app of the 2010s.'\n",
        "qa_model(question = question, context = context)"
      ],
      "metadata": {
        "id": "lXMqdLLIfvV9"
      },
      "execution_count": null,
      "outputs": []
    },
    {
      "cell_type": "markdown",
      "source": [
        "## Podobieństwo zdań"
      ],
      "metadata": {
        "id": "tmFhirDeiT55"
      }
    },
    {
      "cell_type": "code",
      "source": [
        "!pip install -U sentence-transformers"
      ],
      "metadata": {
        "id": "ZV9iKWw7ionx"
      },
      "execution_count": null,
      "outputs": []
    },
    {
      "cell_type": "code",
      "source": [
        "from sentence_transformers import SentenceTransformer, util\n",
        "sentences = [\"I'm happy\", \"I'm full of happiness\"]\n",
        "\n",
        "model = SentenceTransformer('sentence-transformers/all-MiniLM-L6-v2')\n",
        "\n",
        "embedding_1= model.encode(sentences[0], convert_to_tensor=True)\n",
        "embedding_2 = model.encode(sentences[1], convert_to_tensor=True)\n",
        "\n",
        "util.pytorch_cos_sim(embedding_1, embedding_2)"
      ],
      "metadata": {
        "id": "kEi8LvD-iVoW"
      },
      "execution_count": null,
      "outputs": []
    }
  ]
}